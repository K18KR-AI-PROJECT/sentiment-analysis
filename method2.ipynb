from tkinter import *

import string
import nltk
nltk.download('stopwords')
nltk.download('vader_lexicon')
from collections import Counter

import matplotlib.pyplot as plt
from nltk.corpus import stopwords
from nltk.sentiment.vader import SentimentIntensityAnalyzer
from nltk.stem import WordNetLemmatizer
from nltk.tokenize import word_tokenize

root = Tk()
 
def returnEntry(arg=None):
    text = myEntry.get()
    lower_case = text.lower()
    cleaned_text = lower_case.translate(str.maketrans('', '', string.punctuation))

# Using word_tokenize because it's faster than split()
    tokenized_words = word_tokenize(cleaned_text, "english")

# Removing Stop Words
    final_words = []
    for word in tokenized_words:
        if word not in stopwords.words('english'):
            final_words.append(word)

# Lemmatization - From plural to single + Base form of a word (example better-> good)
    lemma_words = []
    for word in final_words:
        word = WordNetLemmatizer().lemmatize(word)
        lemma_words.append(word)

    emotion_list = []
    with open('emotions.txt', 'r') as file:
        for line in file:
            clear_line = line.replace("\n", '').replace(",", '').replace("'", '').strip()
            word, emotion = clear_line.split(':')
            if word in lemma_words:
                emotion_list.append(emotion)

    print("emotios are : ")
    print(emotion_list)
    w = Counter(emotion_list)
    print("\nCount of each emotion is : ")
    print(w)


    def sentiment_analyse(sentiment_text):
        score = SentimentIntensityAnalyzer().polarity_scores(sentiment_text)
        if score['neg'] > score['pos']:
            resultLabel4 = Label(root, text = "\nNegative Sentiment")
            resultLabel4.pack(fill=X)
        elif score['neg'] < score['pos']:
            resultLabel4 = Label(root, text = "\nPositive Sentiment")
            resultLabel4.pack(fill=X)
        else:
            resultLabel4 = Label(root, text = "\nNeutral Sentiment")
            resultLabel4.pack(fill=X)


    sentiment_analyse(cleaned_text)
    
    fig, ax1 = plt.subplots()
    ax1.bar(w.keys(), w.values())
    fig.autofmt_xdate()
    plt.savefig('graph.png')
    plt.show()
    
    #resultLabel1.config(text=emotion_list)
    resultLabel2.config(text="emotions with their count are")
    resultLabel3.config(text=w)
    myEntry.delete(0,END)
 




# End of function
# Create the Entry widget
myEntry = Entry(root, width=20)
myEntry.bind("<Return>",returnEntry)
myEntry.pack()
 
    
# Create the Enter button
enterEntry = Button(root, text= "Enter", command=returnEntry)
enterEntry.pack(fill=X)

enterEntry = Button(root, text= "Exit", command=root.destroy)
enterEntry.pack(fill=X)
    
    
# Create and emplty Label to put the result in
resultLabel1 = Label(root, text = "")
resultLabel1.pack(fill=X)

resultLabel2 = Label(root, text = "")
resultLabel2.pack(fill=X)

resultLabel3 = Label(root, text = "")
resultLabel3.pack(fill=X)

resultLabel4 = Label(root, text = "")
resultLabel4.pack(fill=X)
 
root.mainloop()
